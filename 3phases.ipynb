{
  "cells": [
    {
      "cell_type": "code",
      "execution_count": null,
      "metadata": {
        "id": "OSOaG-m77vLy"
      },
      "outputs": [],
      "source": [
        "include(\"ArrheniusEq.jl\")\n",
        "A = 1\n",
        "Ea = 50000\n",
        "\n",
        "T = 300\n",
        "k = arrhenius_rate(A, Ea, T)\n",
        "println(\"Rate constant at $T K: $k mol/(L*s)\")"
      ]
    }
  ],
  "metadata": {
    "colab": {
      "provenance": []
    },
    "kernelspec": {
      "display_name": "Python 3",
      "name": "python3"
    },
    "language_info": {
      "name": "python"
    }
  },
  "nbformat": 4,
  "nbformat_minor": 0
}

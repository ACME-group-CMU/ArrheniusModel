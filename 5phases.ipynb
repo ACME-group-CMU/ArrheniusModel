{
  "cells": [
    {
      "cell_type": "code",
      "execution_count": 6,
      "metadata": {
        "id": "OSOaG-m77vLy"
      },
      "outputs": [
        {
          "name": "stdout",
          "output_type": "stream",
          "text": [
            "Rate constant at 300 K: 1.3176209246746613e-9 mol/(L*s)\n"
          ]
        }
      ],
      "source": [
        "include(\"ArrheniusEq.jl\")\n",
        "using Plots\n",
        "gr()\n",
        "\n",
        "A = 1\n",
        "Ea = 50000\n",
        "G = 1000\n",
        "T = 300\n",
        "k = arrhenius_rate(A, Ea, G, T)\n",
        "println(\"Rate constant at $T K: $k mol/(L*s)\")"
      ]
    },
    {
      "cell_type": "code",
      "execution_count": 1,
      "metadata": {},
      "outputs": [
        {
          "ename": "UndefVarError",
          "evalue": "UndefVarError: `arrhenius_transform_with_deposition` not defined",
          "output_type": "error",
          "traceback": [
            "UndefVarError: `arrhenius_transform_with_deposition` not defined\n",
            "\n",
            "Stacktrace:\n",
            " [1] simulate_deposition(T_range::StepRange{Int64, Int64}, num_steps::Int64)\n",
            "   @ Main ~/Library/CloudStorage/GoogleDrive-posent@andrew.cmu.edu/My Drive/Ga2O3/ArrheniusModel/5phases.ipynb:11\n",
            " [2] top-level scope\n",
            "   @ ~/Library/CloudStorage/GoogleDrive-posent@andrew.cmu.edu/My Drive/Ga2O3/ArrheniusModel/5phases.ipynb:32"
          ]
        }
      ],
      "source": [
        "function simulate_deposition(T_range, num_steps)\n",
        "    existing_layers = [[1.0, .0, .0, .0, .0]]\n",
        "    new_layer = [1.0, .0, .0, .0, .0]\n",
        "    A_values = [1.0e5, 2.0e5, .0, .0, .0]\n",
        "    Ea_values = [50000, 60000, 70000, 80000, 90000]\n",
        "    G_values = [1000, 2000, 3000, 4000, 5000]\n",
        "    compositions_all = []\n",
        "    for T in T_range\n",
        "        compositions = []\n",
        "        for step in 1:num_steps\n",
        "            existing_layers = arrhenius_transform_with_deposition(existing_layers, new_layer, A_values, Ea_values, G_values, T)\n",
        "            push!(compositions, existing_layers)\n",
        "        end\n",
        "        push!(compositions_all, compositions)\n",
        "    end\n",
        "    return compositions_all\n",
        "end\n",
        "\n",
        "function most_preferable_state(compositions)\n",
        "    max_compositions = []\n",
        "    for temperature_compositions in compositions\n",
        "        max_comp = argmax(flatten(temperature_compositions))\n",
        "        push!(max_compositions, max_comp)\n",
        "    end\n",
        "    return max_compositions\n",
        "end\n",
        "\n",
        "\n",
        "# Simulate deposition and transformation at 300 K\n",
        "T_range = 300:100:900\n",
        "num_steps = 10\n",
        "composition_data = simulate_deposition(T_range, num_steps)\n",
        "println(composition_data[1])\n",
        "\n",
        "# Calculate the most preferable state (maximum total composition) at each temperature\n",
        "max_compositions = most_preferable_state(composition_data)\n",
        "# Define phase names\n",
        "phase_names = [\"Amorphous\", \"Alpha\", \"Beta\", \"Kappa\", \"Gamma\"]\n",
        "\n",
        "# Create a matrix to store presence/absence of each phase at each temperature\n",
        "presence_matrix = zeros(Int, length(T_range), length(phase_names))\n",
        "\n",
        "# Fill the presence matrix based on the most preferable state at each temperature\n",
        "for (i, max_comp) in enumerate(max_compositions)\n",
        "    presence_matrix[i, max_comp] = 1\n",
        "end\n",
        "\n",
        "# Plot presence/absence of each phase as a heatmap\n",
        "heatmap(T_range, 1:length(phase_names), presence_matrix', \n",
        "    xlabel=\"Temperature (K)\", ylabel=\"Phase\",\n",
        "    xticks=T_range, yticks=(1:length(phase_names), phase_names),\n",
        "    title=\"Phase Presence vs Temperature\", color=:auto)"
      ]
    }
  ],
  "metadata": {
    "colab": {
      "provenance": []
    },
    "kernelspec": {
      "display_name": "Julia 1.10.1",
      "language": "julia",
      "name": "julia-1.10"
    },
    "language_info": {
      "file_extension": ".jl",
      "mimetype": "application/julia",
      "name": "julia",
      "version": "1.10.1"
    }
  },
  "nbformat": 4,
  "nbformat_minor": 0
}

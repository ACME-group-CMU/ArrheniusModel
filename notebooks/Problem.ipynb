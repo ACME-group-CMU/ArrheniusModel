{
 "cells": [
  {
   "cell_type": "code",
   "execution_count": null,
   "metadata": {},
   "outputs": [],
   "source": [
    "using ArrheniusModel\n",
    "using Enzyme"
   ]
  },
  {
   "cell_type": "code",
   "execution_count": null,
   "metadata": {},
   "outputs": [],
   "source": [
    "\n",
    "\n",
    "rng = Xoshiro(0)\n",
    "G = [-5.92, -5.942, -5.97]\n",
    "Ea = [0.00 1.00 0.01; 1.00 0.00 1.00; 0.01 1.00 0.00]\n",
    "pe = PhaseEnergies(G, Ea)\n",
    "T = 300.0\n",
    "K = arrhenius_rate(pe.barriers, T)\n",
    "t= 10\n",
    "dt = 0.05\n",
    "datasize = Int(t/0.5+1)\n",
    "num_steps = floor(Int, t/dt)\n",
    "num_layers = floor(Int, t/0.5)+1\n",
    "flow_rate = 0.5\n",
    "decay_coefficient = 0.00001 * flow_rate\n",
    "fcoeff = flow_coefficient(\"exponential\", num_layers, decay_coefficient)\n",
    "n = n_phases(pe)\n",
    "c0 = zeros(num_layers, n)\n",
    "c0[1, 1] = 1.0\n",
    "j = 0\n",
    "j0 = 0\n",
    "p = (fcoeff, j0, j, dt, num_steps, num_layers)\n",
    "tspan = (0.0, (num_steps-1) * dt)\n",
    "tsteps = range(tspan[1], tspan[2]; length = datasize)\n",
    "\n",
    "function deposition_rates!(dc, c, p, t)\n",
    "    # Unpack parameters\n",
    "    fcoeff, j0, j, dt, num_steps, num_layers = p\n",
    "    # Calculate deposition rates\n",
    "    j = floor(Int, t / 0.5) + 1\n",
    "    f = reverse(fcoeff[j: num_layers+j-1])\n",
    "    dc .= c .* f * K\n",
    "    if j != j0\n",
    "        c[j+1, 1] = 1.0\n",
    "        j = j0\n",
    "    end\n",
    "end\n",
    "\n",
    "function ODE_calculation(barriers=pe.barriers, T=T, prob=prob)\n",
    "    K = arrhenius_rate(barriers, T)\n",
    "    ode_data = Array(solve(prob, Euler(), saveat = 0.5, dt = 0.05))\n",
    "    return ode_data[:,:,end]\n",
    "end\n",
    "\n",
    "println(ODE_calculation(pe.barriers, T))\n",
    "\n",
    "db = Array(zero(pe.barriers))\n",
    "dT = 1.0\n",
    "\n",
    "godeT = Enzyme.autodiff(Forward,\n",
    " ODE_calculation,\n",
    " Duplicated(pe.barriers, db), \n",
    " Duplicated(T,dT), \n",
    " Const(prob))[1]"
   ]
  }
 ],
 "metadata": {
  "kernelspec": {
   "display_name": "Julia 1.10.5",
   "language": "julia",
   "name": "julia-1.10"
  },
  "language_info": {
   "file_extension": ".jl",
   "mimetype": "application/julia",
   "name": "julia",
   "version": "1.10.5"
  }
 },
 "nbformat": 4,
 "nbformat_minor": 2
}

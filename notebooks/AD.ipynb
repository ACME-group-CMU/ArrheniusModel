{
 "cells": [
  {
   "cell_type": "code",
   "execution_count": 1,
   "metadata": {},
   "outputs": [],
   "source": [
    "using Enzyme\n",
    "using ArrheniusModel"
   ]
  },
  {
   "cell_type": "code",
   "execution_count": 2,
   "metadata": {},
   "outputs": [
    {
     "name": "stdout",
     "output_type": "stream",
     "text": [
      "Test for flow_coefficient\n"
     ]
    }
   ],
   "source": [
    "\n"
   ]
  },
  {
   "cell_type": "code",
   "execution_count": 4,
   "metadata": {},
   "outputs": [
    {
     "data": {
      "text/plain": [
       "PhaseEnergies([1.0, 0.0], [0.0 0.2; 0.2 0.0], [0.0 0.2; 1.2 0.0])"
      ]
     },
     "metadata": {},
     "output_type": "display_data"
    }
   ],
   "source": [
    "\n",
    "# example from tests\n",
    "G = [1.0,0.0]\n",
    "Ea = [0. 0.2; 0.2 0.]\n",
    "pe = PhaseEnergies(G, Ea)"
   ]
  },
  {
   "cell_type": "code",
   "execution_count": 68,
   "metadata": {},
   "outputs": [
    {
     "data": {
      "text/plain": [
       "2×2 Matrix{Float64}:\n",
       "  0.0          -0.0\n",
       " -2.67689e-19   2.67689e-19"
      ]
     },
     "metadata": {},
     "output_type": "display_data"
    }
   ],
   "source": [
    "# try forward mode without the struct first\n",
    "# this will give the derivative of each element of the output matrix wrt the 1,2 element of the input\n",
    "db = Array(zero(pe.barriers))\n",
    "db[2,1] = 1.0\n",
    "g12 = Enzyme.autodiff(Forward, arrhenius_rate, Duplicated(pe.barriers, db))[1]\n",
    "# (convince yourself that this gives the right result)"
   ]
  },
  {
   "cell_type": "code",
   "execution_count": 39,
   "metadata": {},
   "outputs": [
    {
     "data": {
      "text/plain": [
       "2×2 Matrix{Float64}:\n",
       " 0.0  0.2\n",
       " 1.2  0.0"
      ]
     },
     "metadata": {},
     "output_type": "display_data"
    },
    {
     "data": {
      "text/plain": [
       "2×2 Matrix{Float64}:\n",
       " -0.000436534   0.000436534\n",
       "  6.92002e-21  -6.92002e-21"
      ]
     },
     "metadata": {},
     "output_type": "display_data"
    }
   ],
   "source": [
    "realK = arrhenius_rate(pe.barriers)\n",
    "display(pe.barriers)\n",
    "display(realK)"
   ]
  },
  {
   "cell_type": "code",
   "execution_count": 72,
   "metadata": {},
   "outputs": [
    {
     "data": {
      "text/plain": [
       "2×2 Matrix{Float64}:\n",
       " 0.0          0.0168865\n",
       " 2.67689e-19  0.0"
      ]
     },
     "metadata": {},
     "output_type": "display_data"
    }
   ],
   "source": [
    "db = zero(pe.barriers)\n",
    "dT = 1.0\n",
    "T = 300.0\n",
    "K = zero(pe.barriers)\n",
    "dK = one(pe.barriers)\n",
    "Enzyme.autodiff(ReverseWithPrimal, arrhenius_rate!, Duplicated(pe.barriers, db), Duplicated(K, dK), Duplicated(T, dT))\n",
    "db\n"
   ]
  },
  {
   "cell_type": "code",
   "execution_count": 7,
   "metadata": {},
   "outputs": [
    {
     "data": {
      "text/plain": [
       "([2.0 0.0; 0.0 0.0], 1.0)"
      ]
     },
     "metadata": {},
     "output_type": "display_data"
    }
   ],
   "source": [
    "a = (db, dT)\n",
    "a[1][1] = 2.0\n",
    "a\n"
   ]
  },
  {
   "cell_type": "code",
   "execution_count": 8,
   "metadata": {},
   "outputs": [
    {
     "data": {
      "text/plain": [
       "(var\"1\" = [0.0 -0.0; -0.0 0.0],)"
      ]
     },
     "metadata": {},
     "output_type": "display_data"
    }
   ],
   "source": [
    "\n",
    "# similarly, to get the derivative wrt the 2,2 element we can do...\n",
    "db = Array(zero(pe.barriers))\n",
    "db[2,2] = 1.0\n",
    "Enzyme.autodiff(Forward, arrhenius_rate, Duplicated(pe.barriers, db))\n",
    "# (again, convince yourself)"
   ]
  },
  {
   "cell_type": "code",
   "execution_count": 3,
   "metadata": {},
   "outputs": [
    {
     "data": {
      "text/plain": [
       "(var\"1\" = [-1.1257691092137462e-5 1.1257691092137462e-5; 1.0707553411056894e-21 -1.0707553411056894e-21],)"
      ]
     },
     "metadata": {},
     "output_type": "display_data"
    }
   ],
   "source": [
    "# we can do it wrt the temperature also...\n",
    "db = Array(zero(pe.barriers))\n",
    "dT = 1.0\n",
    "Enzyme.autodiff(Forward, arrhenius_rate, Duplicated(pe.barriers, db), Duplicated(300.0, dT))\n",
    "# (check this on paper too)"
   ]
  },
  {
   "cell_type": "code",
   "execution_count": 11,
   "metadata": {},
   "outputs": [],
   "source": [
    "using SciMLSensitivity, OrdinaryDiffEq, Enzyme\n",
    "\n"
   ]
  },
  {
   "cell_type": "code",
   "execution_count": 64,
   "metadata": {},
   "outputs": [
    {
     "data": {
      "text/plain": [
       "nothing"
      ]
     },
     "metadata": {},
     "output_type": "display_data"
    },
    {
     "name": "stdout",
     "output_type": "stream",
     "text": [
      "[7.389054210155433]\n"
     ]
    }
   ],
   "source": [
    "function simpletest(du, u, p, t)\n",
    "    du[1] = u[1] * p[1]\n",
    "end\n",
    "p = [1.0]\n",
    "u0 = [1.0]\n",
    "prob = ODEProblem(simpletest, u0, (0.0, 1.0), p)\n",
    "sol = solve(prob, Tsit5(), saveat =0.1)\n",
    "#display(sol)\n",
    "function last(u0, p, prob)\n",
    "    u0 .= solve(prob, Tsit5(), u0 = u0, p = p, saveat = 0.1)[end]\n",
    "    return nothing\n",
    "end\n",
    "display(last(u0, p, prob))\n",
    "du = zeros(size(u0))\n",
    "dp = zeros(size(p))\n",
    "du[1]=1.0 #The output dp will be proportional to this du\n",
    "#println(sol)\n",
    "gloss = Enzyme.autodiff(Reverse, last, Duplicated(u0, du), Duplicated(p, dp), Const(prob))\n",
    "println(dp)"
   ]
  },
  {
   "cell_type": "code",
   "execution_count": 55,
   "metadata": {},
   "outputs": [
    {
     "data": {
      "text/plain": [
       "finite_difference_gradient (generic function with 2 methods)"
      ]
     },
     "metadata": {},
     "output_type": "display_data"
    }
   ],
   "source": [
    "function last2(u0, p, prob)\n",
    "    return solve(prob, Tsit5(), u0 = u0, p = p, saveat = 0.1)[end]\n",
    "end\n",
    "\n",
    "function finite_difference_gradient(f, u0, p, prob, epsilon=1e-6)\n",
    "    grad = zeros(length(p))\n",
    "    for i in 1:length(p)\n",
    "        p_forward = copy(p)\n",
    "        p_backward = copy(p)\n",
    "        p_forward[i] += epsilon\n",
    "        p_backward[i] -= epsilon\n",
    "        a = f(u0, p_forward, prob)\n",
    "        b = f(u0, p_backward, prob)\n",
    "        grad[i] = (a[1]-b[1]) / (2 * epsilon)\n",
    "    end\n",
    "    return grad\n",
    "end"
   ]
  },
  {
   "cell_type": "code",
   "execution_count": 56,
   "metadata": {},
   "outputs": [
    {
     "name": "stdout",
     "output_type": "stream",
     "text": [
      "Numerical Gradient: [2.7182806083825284]\n"
     ]
    }
   ],
   "source": [
    "# Reset u0 to its initial value\n",
    "u0 = [1.0]\n",
    "\n",
    "# Compute the numerical gradient\n",
    "numerical_grad = finite_difference_gradient(last2, u0, p, prob)\n",
    "println(\"Numerical Gradient: \", numerical_grad)"
   ]
  },
  {
   "cell_type": "code",
   "execution_count": 57,
   "metadata": {},
   "outputs": [
    {
     "name": "stdout",
     "output_type": "stream",
     "text": [
      "[7.389054210155433]\n"
     ]
    }
   ],
   "source": [
    "println(dp) # this is the square of the gradient"
   ]
  },
  {
   "cell_type": "code",
   "execution_count": 21,
   "metadata": {},
   "outputs": [
    {
     "name": "stdout",
     "output_type": "stream",
     "text": [
      "19.056274533271502\n"
     ]
    }
   ],
   "source": [
    "println(last(u0, p, prob))"
   ]
  },
  {
   "cell_type": "code",
   "execution_count": 18,
   "metadata": {},
   "outputs": [
    {
     "name": "stdout",
     "output_type": "stream",
     "text": [
      "[19.056274299694117][11.396095486944962]\n"
     ]
    }
   ],
   "source": [
    "println(du, dp)"
   ]
  },
  {
   "cell_type": "code",
   "execution_count": 13,
   "metadata": {},
   "outputs": [
    {
     "name": "stdout",
     "output_type": "stream",
     "text": [
      "[19.056274299694117]\n",
      "[11.396095486944962]\n"
     ]
    }
   ],
   "source": [
    "println(du)\n",
    "println(dp)"
   ]
  },
  {
   "cell_type": "code",
   "execution_count": 81,
   "metadata": {},
   "outputs": [
    {
     "data": {
      "text/plain": [
       "retcode: Success\n",
       "Interpolation: specialized 4th order \"free\" interpolation\n",
       "t: 34-element Vector{Float64}:\n",
       "  0.0\n",
       "  0.0776084743154256\n",
       "  0.23264513699277584\n",
       "  0.4291185174543143\n",
       "  0.6790821987497083\n",
       "  0.9444046158046306\n",
       "  1.2674601546021105\n",
       "  1.6192913303893046\n",
       "  1.9869754428624007\n",
       "  2.2640902393538296\n",
       "  ⋮\n",
       "  7.584863345264154\n",
       "  7.978068981329682\n",
       "  8.48316543760351\n",
       "  8.719248247740158\n",
       "  8.949206788834692\n",
       "  9.200185054623292\n",
       "  9.438029017301554\n",
       "  9.711808134779586\n",
       " 10.0\n",
       "u: 34-element Vector{Vector{Float64}}:\n",
       " [1.0, 1.0]\n",
       " [1.0454942346944578, 0.8576684823217128]\n",
       " [1.1758715885138271, 0.6394595703175443]\n",
       " [1.419680960717083, 0.4569962601282089]\n",
       " [1.8767193950080012, 0.3247334292791134]\n",
       " [2.588250064553348, 0.26336255535952197]\n",
       " [3.860708909220769, 0.2794458098285261]\n",
       " [5.750812667710401, 0.522007253793458]\n",
       " [6.8149789991301635, 1.9177826328390826]\n",
       " [4.392999292571394, 4.1946707928506015]\n",
       " ⋮\n",
       " [2.6142539677883248, 0.26416945387526314]\n",
       " [4.24107612719179, 0.3051236762922018]\n",
       " [6.791123785297775, 1.1345287797146668]\n",
       " [6.26537067576476, 2.741693507540315]\n",
       " [3.780765111887945, 4.431165685863443]\n",
       " [1.816420140681737, 4.064056625315896]\n",
       " [1.1465021407690763, 2.791170661621642]\n",
       " [0.9557986135403417, 1.623562295185047]\n",
       " [1.0337581256020802, 0.9063703842885995]"
      ]
     },
     "metadata": {},
     "output_type": "display_data"
    },
    {
     "name": "stdout",
     "output_type": "stream",
     "text": [
      "450.6437728782925\n",
      "[8.349039360098285, -159.3107987785755, 74.93924800431942, -339.3272380777995]\n"
     ]
    }
   ],
   "source": [
    "function fiip(du, u, p, t)\n",
    "    du[1] = dx = p[1] * u[1] - p[2] * u[1] * u[2]\n",
    "    du[2] = dy = -p[3] * u[2] + p[4] * u[1] * u[2]\n",
    "end\n",
    "p = [1.5, 1.0, 3.0, 1.0];\n",
    "u0 = [1.0; 1.0];\n",
    "prob = ODEProblem(fiip, u0, (0.0, 10.0), p)\n",
    "sol = solve(prob, Tsit5())\n",
    "display(sol)\n",
    "loss(u0, p, prob) = sum(solve(prob, Tsit5(), u0 = u0, p = p, saveat = 0.1))\n",
    "du = zeros(size(u0))\n",
    "dp = zeros(size(p))\n",
    "dp[1] = 1.0\n",
    "println(loss(u0, p, prob))\n",
    "gloss = Enzyme.autodiff(Reverse, loss, Active, Duplicated(u0, du), Duplicated(p, dp), Const(prob))\n",
    "println(dp)"
   ]
  },
  {
   "cell_type": "code",
   "execution_count": 17,
   "metadata": {},
   "outputs": [
    {
     "ename": "Enzyme.Compiler.EnzymeRuntimeActivityError",
     "evalue": "Constant memory is stored (or returned) to a differentiable variable.\nAs a result, Enzyme cannot provably ensure correctness and throws this error.\nThis might be due to the use of a constant variable as temporary storage for active memory (https://enzyme.mit.edu/julia/stable/faq/#Activity-of-temporary-storage).\nIf Enzyme should be able to prove this use non-differentable, open an issue!\nTo work around this issue, either:\n a) rewrite this variable to not be conditionally active (fastest, but requires a code change), or\n b) set Enzyme.API.runtimeActivity!(true) immediately after loading Enzyme (which maintains correctness, but may slightly reduce performance).\nMismatched activity for:   %value_phi = select i1 %.not, {} addrspace(10)* %getfield64, {} addrspace(10)* %getfield, !dbg !205 const val:   %getfield64 = load atomic {} addrspace(10)*, {} addrspace(10)* addrspace(11)* %9 unordered, align 8, !dbg !205\nType tree: {[-1]:Pointer, [-1,0]:Pointer, [-1,0,-1]:Float@double, [-1,8]:Integer, [-1,9]:Integer, [-1,10]:Integer, [-1,11]:Integer, [-1,12]:Integer, [-1,13]:Integer, [-1,14]:Integer, [-1,15]:Integer, [-1,16]:Integer, [-1,17]:Integer, [-1,18]:Integer, [-1,19]:Integer, [-1,20]:Integer, [-1,21]:Integer, [-1,22]:Integer, [-1,23]:Integer, [-1,24]:Integer, [-1,25]:Integer, [-1,26]:Integer, [-1,27]:Integer, [-1,28]:Integer, [-1,29]:Integer, [-1,30]:Integer, [-1,31]:Integer, [-1,32]:Integer, [-1,33]:Integer, [-1,34]:Integer, [-1,35]:Integer, [-1,36]:Integer, [-1,37]:Integer, [-1,38]:Integer, [-1,39]:Integer}\n llvalue=  %getfield64 = load atomic {} addrspace(10)*, {} addrspace(10)* addrspace(11)* %9 unordered, align 8, !dbg !205\n\nStacktrace:\n [1] get_concrete_p\n   @ ~/.julia/packages/DiffEqBase/DdIeW/src/solve.jl:1374\n [2] #get_concrete_problem#69\n   @ ~/.julia/packages/DiffEqBase/DdIeW/src/solve.jl:1168\n",
     "output_type": "error",
     "traceback": [
      "Constant memory is stored (or returned) to a differentiable variable.\n",
      "As a result, Enzyme cannot provably ensure correctness and throws this error.\n",
      "This might be due to the use of a constant variable as temporary storage for active memory (https://enzyme.mit.edu/julia/stable/faq/#Activity-of-temporary-storage).\n",
      "If Enzyme should be able to prove this use non-differentable, open an issue!\n",
      "To work around this issue, either:\n",
      " a) rewrite this variable to not be conditionally active (fastest, but requires a code change), or\n",
      " b) set Enzyme.API.runtimeActivity!(true) immediately after loading Enzyme (which maintains correctness, but may slightly reduce performance).\n",
      "Mismatched activity for:   %value_phi = select i1 %.not, {} addrspace(10)* %getfield64, {} addrspace(10)* %getfield, !dbg !205 const val:   %getfield64 = load atomic {} addrspace(10)*, {} addrspace(10)* addrspace(11)* %9 unordered, align 8, !dbg !205\n",
      "Type tree: {[-1]:Pointer, [-1,0]:Pointer, [-1,0,-1]:Float@double, [-1,8]:Integer, [-1,9]:Integer, [-1,10]:Integer, [-1,11]:Integer, [-1,12]:Integer, [-1,13]:Integer, [-1,14]:Integer, [-1,15]:Integer, [-1,16]:Integer, [-1,17]:Integer, [-1,18]:Integer, [-1,19]:Integer, [-1,20]:Integer, [-1,21]:Integer, [-1,22]:Integer, [-1,23]:Integer, [-1,24]:Integer, [-1,25]:Integer, [-1,26]:Integer, [-1,27]:Integer, [-1,28]:Integer, [-1,29]:Integer, [-1,30]:Integer, [-1,31]:Integer, [-1,32]:Integer, [-1,33]:Integer, [-1,34]:Integer, [-1,35]:Integer, [-1,36]:Integer, [-1,37]:Integer, [-1,38]:Integer, [-1,39]:Integer}\n",
      " llvalue=  %getfield64 = load atomic {} addrspace(10)*, {} addrspace(10)* addrspace(11)* %9 unordered, align 8, !dbg !205\n",
      "\n",
      "Stacktrace:\n",
      " [1] get_concrete_p\n",
      "   @ ~/.julia/packages/DiffEqBase/DdIeW/src/solve.jl:1374\n",
      " [2] #get_concrete_problem#69\n",
      "   @ ~/.julia/packages/DiffEqBase/DdIeW/src/solve.jl:1168\n",
      "\n"
     ]
    }
   ],
   "source": [
    "du = zeros(size(u0))\n",
    "dp = zeros(size(p))\n",
    "dp[1] = 1.0\n",
    "gloss = Enzyme.autodiff(Forward, loss, Duplicated(u0, du), Duplicated(p, dp), Const(prob))\n",
    "gloss[1]\n"
   ]
  },
  {
   "cell_type": "code",
   "execution_count": 16,
   "metadata": {},
   "outputs": [
    {
     "data": {
      "text/plain": [
       "4-element Vector{Float64}:\n",
       "    8.349039360098285\n",
       " -159.3107987785755\n",
       "   74.93924800431942\n",
       " -339.3272380777995"
      ]
     },
     "metadata": {},
     "output_type": "display_data"
    }
   ],
   "source": [
    "dp"
   ]
  },
  {
   "cell_type": "code",
   "execution_count": null,
   "metadata": {},
   "outputs": [],
   "source": []
  }
 ],
 "metadata": {
  "kernelspec": {
   "display_name": "Julia 1.10.5",
   "language": "julia",
   "name": "julia-1.10"
  },
  "language_info": {
   "file_extension": ".jl",
   "mimetype": "application/julia",
   "name": "julia",
   "version": "1.10.5"
  }
 },
 "nbformat": 4,
 "nbformat_minor": 2
}

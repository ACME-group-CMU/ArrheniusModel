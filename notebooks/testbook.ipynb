{
 "cells": [
  {
   "cell_type": "code",
   "execution_count": 1,
   "metadata": {},
   "outputs": [],
   "source": [
    "using ArrheniusModel\n",
    "using Test"
   ]
  },
  {
   "cell_type": "code",
   "execution_count": 2,
   "metadata": {},
   "outputs": [
    {
     "data": {
      "text/plain": [
       "10×3 Matrix{Float64}:\n",
       " 0.492667  0.492667  0.492667\n",
       " 0.534202  0.534199  0.534199\n",
       " 0.446676  0.446662  0.446662\n",
       " 0.492718  0.492641  0.492641\n",
       " 0.492972  0.492514  0.492514\n",
       " 0.494484  0.491758  0.491758\n",
       " 0.503478  0.487261  0.487261\n",
       " 0.556993  0.460504  0.460504\n",
       " 0.8754    0.3013    0.3013\n",
       " 1.0       0.0       0.0"
      ]
     },
     "metadata": {},
     "output_type": "display_data"
    },
    {
     "name": "stdout",
     "output_type": "stream",
     "text": [
      "\u001b[91m\u001b[1mTest Failed\u001b[22m\u001b[39m at \u001b[39m\u001b[1mg:\\My Drive\\Ga2O3\\ArrheniusModel\\notebooks\\testbook.ipynb:13\u001b[22m\n",
      "  Expression: layers[:, 2] == layers[:, 3]\n",
      "   Evaluated: [0.4926665448272271, 0.5341990503015388, 0.44666198599699963, 0.49264100308351505, 0.49251397086639515, 0.49175814164571396, 0.48726103198497006, 0.46050367100000006, 0.3012999999999998, 0.0] == [0.4926665448272271, 0.5341990503015388, 0.44666198599699963, 0.49264100308351505, 0.49251397086639515, 0.49175814164571396, 0.48726103198497006, 0.460503671, 0.3012999999999998, 0.0]\n",
      "\n"
     ]
    },
    {
     "ename": "Test.FallbackTestSetException",
     "evalue": "Test.FallbackTestSetException(\"There was an error during testing\")",
     "output_type": "error",
     "traceback": [
      "Test.FallbackTestSetException(\"There was an error during testing\")\n",
      "\n",
      "Stacktrace:\n",
      " [1] record(ts::Test.FallbackTestSet, t::Union{Test.Error, Test.Fail})\n",
      "   @ Test C:\\Users\\heyye\\.julia\\juliaup\\julia-1.10.1+0.x64.w64.mingw32\\share\\julia\\stdlib\\v1.10\\Test\\src\\Test.jl:1000\n",
      " [2] do_test(result::Test.ExecutionResult, orig_expr::Any)\n",
      "   @ Test C:\\Users\\heyye\\.julia\\juliaup\\julia-1.10.1+0.x64.w64.mingw32\\share\\julia\\stdlib\\v1.10\\Test\\src\\Test.jl:705\n",
      " [3] macro expansion\n",
      "   @ C:\\Users\\heyye\\.julia\\juliaup\\julia-1.10.1+0.x64.w64.mingw32\\share\\julia\\stdlib\\v1.10\\Test\\src\\Test.jl:672 [inlined]\n",
      " [4] top-level scope\n",
      "   @ g:\\My Drive\\Ga2O3\\ArrheniusModel\\notebooks\\testbook.ipynb:13"
     ]
    }
   ],
   "source": [
    "G = [0.0,0.0,0.0]\n",
    "Ea = [0. 0. 0.; 0. 0. 0.; 0. 0. 0.]\n",
    "pe = PhaseEnergies(G, Ea)\n",
    "T = 300.0\n",
    "t= 10\n",
    "num_steps = 10\n",
    "dt = 0.5\n",
    "flow_rate = 0.5\n",
    "decay_coefficient = 0.00001 * flow_rate\n",
    "fcoeff = flow_coefficient(\"exponential\", num_steps, decay_coefficient)\n",
    "layers = simulate_deposition(fcoeff, pe, T, num_steps, dt)\n",
    "display(layers)\n",
    "@test layers[:, 2] == layers[:, 3]\n",
    "@test size(layers) == (num_steps, 3)\n",
    "@test all(layers .>= 0)\n",
    "@test all(layers[end,:] .== [1.0, 0.0, 0.0])\n",
    "phase = most_preferable_state(layers, 0.01, [\"A\", \"B\", \"C\"])\n",
    "@test phase == \"A+B+C\"\n",
    "phase = most_preferable_state(layers, 0.5, [\"A\", \"B\", \"C\"])\n",
    "@test phase == \"A\"\n",
    "\n"
   ]
  },
  {
   "cell_type": "code",
   "execution_count": 25,
   "metadata": {},
   "outputs": [
    {
     "name": "stdout",
     "output_type": "stream",
     "text": [
      "\u001b[91m\u001b[1mTest Failed\u001b[22m\u001b[39m at \u001b[39m\u001b[1mg:\\My Drive\\Ga2O3\\ArrheniusModel\\notebooks\\testbook.ipynb:18\u001b[22m\n",
      "  Expression: all(layers[:, 1] .== 1.0)\n",
      "\n"
     ]
    },
    {
     "ename": "Test.FallbackTestSetException",
     "evalue": "Test.FallbackTestSetException(\"There was an error during testing\")",
     "output_type": "error",
     "traceback": [
      "Test.FallbackTestSetException(\"There was an error during testing\")\n",
      "\n",
      "Stacktrace:\n",
      " [1] record(ts::Test.FallbackTestSet, t::Union{Test.Error, Test.Fail})\n",
      "   @ Test C:\\Users\\heyye\\.julia\\juliaup\\julia-1.10.1+0.x64.w64.mingw32\\share\\julia\\stdlib\\v1.10\\Test\\src\\Test.jl:1000\n",
      " [2] do_test(result::Test.ExecutionResult, orig_expr::Any)\n",
      "   @ Test C:\\Users\\heyye\\.julia\\juliaup\\julia-1.10.1+0.x64.w64.mingw32\\share\\julia\\stdlib\\v1.10\\Test\\src\\Test.jl:705\n",
      " [3] macro expansion\n",
      "   @ C:\\Users\\heyye\\.julia\\juliaup\\julia-1.10.1+0.x64.w64.mingw32\\share\\julia\\stdlib\\v1.10\\Test\\src\\Test.jl:672 [inlined]\n",
      " [4] top-level scope\n",
      "   @ g:\\My Drive\\Ga2O3\\ArrheniusModel\\notebooks\\testbook.ipynb:18"
     ]
    }
   ],
   "source": [
    "G = [-5.92, -5.942, -5.97]\n",
    "Ea = [0.00 1.00 0.01; 1.00 0.00 1.00; 0.01 1.00 0.00]\n",
    "pe = PhaseEnergies(G, Ea)\n",
    "T = 1.0\n",
    "t= 10\n",
    "num_steps = 100\n",
    "dt = t / num_steps\n",
    "flow_rate = 0.5\n",
    "decay_coefficient = 0.00001 * flow_rate\n",
    "fcoeff = flow_coefficient(\"exponential\", num_steps, decay_coefficient)\n",
    "layers = simulate_deposition(fcoeff, pe, T, num_steps, dt)\n",
    "for i in 1:size(pe.K,1)\n",
    "    @test pe.K[i, i] ==  -1 * sum(pe.K[i, [1:i-1; i+1:end]])\n",
    "end\n",
    "@test size(layers) == (num_steps, 3)\n",
    "@test all(layers .>= 0)\n",
    "@test all(layers[end,:] .== [1.0, 0.0, 0.0])\n",
    "@test all(layers[:, 1] .== 1.0)\n",
    "@test layers[:, 2] != layers[:, 3]"
   ]
  },
  {
   "cell_type": "code",
   "execution_count": 24,
   "metadata": {},
   "outputs": [
    {
     "data": {
      "text/plain": [
       "500-element Vector{Float64}:\n",
       " 1.0\n",
       " 1.0\n",
       " 1.0\n",
       " 1.0\n",
       " 1.0\n",
       " 1.0\n",
       " 1.0\n",
       " 1.0\n",
       " 1.0\n",
       " 1.0\n",
       " ⋮\n",
       " 1.0\n",
       " 1.0\n",
       " 1.0\n",
       " 1.0\n",
       " 1.0\n",
       " 1.0\n",
       " 1.0\n",
       " 1.0\n",
       " 1.0"
      ]
     },
     "metadata": {},
     "output_type": "display_data"
    }
   ],
   "source": [
    "layers[:, 1]"
   ]
  }
 ],
 "metadata": {
  "kernelspec": {
   "display_name": "Julia 1.10.1",
   "language": "julia",
   "name": "julia-1.10"
  },
  "language_info": {
   "file_extension": ".jl",
   "mimetype": "application/julia",
   "name": "julia",
   "version": "1.10.1"
  }
 },
 "nbformat": 4,
 "nbformat_minor": 2
}

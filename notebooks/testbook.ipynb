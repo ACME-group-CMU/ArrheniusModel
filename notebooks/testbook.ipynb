{
 "cells": [
  {
   "cell_type": "code",
   "execution_count": 2,
   "metadata": {},
   "outputs": [],
   "source": [
    "using ArrheniusModel\n",
    "using Test"
   ]
  },
  {
   "cell_type": "code",
   "execution_count": 27,
   "metadata": {},
   "outputs": [
    {
     "data": {
      "text/plain": [
       "3×3 StaticArraysCore.MMatrix{3, 3, Float64, 9} with indices SOneTo(3)×SOneTo(3):\n",
       " -2.0   1.0   1.0\n",
       "  1.0  -2.0   1.0\n",
       "  1.0   1.0  -2.0"
      ]
     },
     "metadata": {},
     "output_type": "display_data"
    }
   ],
   "source": [
    "G = [0.0,0.0,0.0]\n",
    "Ea = [0. 0. 0.; 0. 0. 0.; 0. 0. 0.]\n",
    "pe = PhaseEnergies(G, Ea)\n",
    "T = 300.0\n",
    "num_steps = 10\n",
    "dt = 0.1\n",
    "flow_rate = 0.5\n",
    "decay_coefficient = 0.00001 * flow_rate\n",
    "fcoeff = flow_coefficient(\"exponential\", num_steps, decay_coefficient)\n",
    "layers = simulate_deposition(fcoeff, pe, T, num_steps, dt)\n",
    "@test layers[:, 2] == layers[:, 3]\n",
    "@test size(layers) == (num_steps+1, 3)\n",
    "@test all(layers .>= 0)\n",
    "@test all(layers[1,:] .== [1.0, 0.0, 0.0])\n",
    "phase = most_preferable_state(layers, 0.01, [\"A\", \"B\", \"C\"])\n",
    "@test phase == \"A+B+C\"\n",
    "phase = most_preferable_state(layers, 0.3, [\"A\", \"B\", \"C\"])\n",
    "@test phase == \"A\"\n",
    "pe.K\n",
    "\n"
   ]
  },
  {
   "cell_type": "code",
   "execution_count": 29,
   "metadata": {},
   "outputs": [],
   "source": [
    "G = [-5.92, -5.942, -5.97]\n",
    "Ea = [0.00 1.00 0.01; 1.00 0.00 1.00; 0.01 1.00 0.00]\n",
    "pe = PhaseEnergies(G, Ea)\n",
    "T = 1.0\n",
    "num_steps = 10\n",
    "dt = 0.1\n",
    "flow_rate = 0.5\n",
    "decay_coefficient = 0.00001 * flow_rate\n",
    "fcoeff = flow_coefficient(\"exponential\", num_steps, decay_coefficient)\n",
    "layers = simulate_deposition(fcoeff, pe, T, num_steps, dt)\n",
    "for i in 1:size(pe.K,1)\n",
    "    @test pe.K[i, i] ==  -1 * sum(pe.K[i, [1:i-1; i+1:end]])\n",
    "end\n",
    "@test size(layers) == (num_steps+1, 3)\n",
    "@test all(layers .>= 0)\n",
    "@test all(layers[1,:] .== [1.0, 0.0, 0.0])\n",
    "@test all(layers[:, 1] .== 1.0)"
   ]
  }
 ],
 "metadata": {
  "kernelspec": {
   "display_name": "Julia 1.10.3",
   "language": "julia",
   "name": "julia-1.10"
  },
  "language_info": {
   "file_extension": ".jl",
   "mimetype": "application/julia",
   "name": "julia",
   "version": "1.10.3"
  }
 },
 "nbformat": 4,
 "nbformat_minor": 2
}

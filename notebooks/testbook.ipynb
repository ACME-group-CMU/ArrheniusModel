{
 "cells": [
  {
   "cell_type": "code",
   "execution_count": 2,
   "metadata": {},
   "outputs": [],
   "source": [
    "using ArrheniusModel\n",
    "using Test"
   ]
  },
  {
   "cell_type": "code",
   "execution_count": 30,
   "metadata": {},
   "outputs": [
    {
     "data": {
      "text/plain": [
       "10-element Vector{Float64}:\n",
       " 0.9999950000125\n",
       " 0.9999900000499998\n",
       " 0.9999850001124995\n",
       " 0.9999800001999987\n",
       " 0.9999750003124974\n",
       " 0.9999700004499955\n",
       " 0.9999650006124928\n",
       " 0.9999600007999894\n",
       " 0.9999550010124848\n",
       " 0.9999500012499791"
      ]
     },
     "metadata": {},
     "output_type": "display_data"
    }
   ],
   "source": [
    "G = [0.0,0.0,0.0]\n",
    "Ea = [0. 0. 0.; 0. 0. 0.; 0. 0. 0.]\n",
    "pe = PhaseEnergies(G, Ea)\n",
    "T = 300.0\n",
    "num_steps = 10\n",
    "dt = 0.1\n",
    "flow_rate = 0.5\n",
    "decay_coefficient = 0.00001 * flow_rate\n",
    "fcoeff = flow_coefficient(\"exponential\", num_steps, decay_coefficient)\n",
    "layers = simulate_deposition(fcoeff, pe, T, num_steps, dt)\n",
    "@test layers[:, 2] == layers[:, 3]\n",
    "@test size(layers) == (num_steps+1, 3)\n",
    "@test all(layers .>= 0)\n",
    "@test all(layers[1,:] .== [1.0, 0.0, 0.0])\n",
    "phase = most_preferable_state(layers, 0.01, [\"A\", \"B\", \"C\"])\n",
    "@test phase == \"A+B+C\"\n",
    "phase = most_preferable_state(layers, 0.3, [\"A\", \"B\", \"C\"])\n",
    "@test phase == \"A\"\n",
    "\n"
   ]
  },
  {
   "cell_type": "code",
   "execution_count": 3,
   "metadata": {},
   "outputs": [
    {
     "data": {
      "text/plain": [
       "\u001b[32m\u001b[1mTest Passed\u001b[22m\u001b[39m"
      ]
     },
     "metadata": {},
     "output_type": "display_data"
    }
   ],
   "source": [
    "G = [-5.92, -5.942, -5.97]\n",
    "Ea = [0.00 1.00 0.01; 1.00 0.00 1.00; 0.01 1.00 0.00]\n",
    "pe = PhaseEnergies(G, Ea)\n",
    "T = 1.0\n",
    "num_steps = 10\n",
    "dt = 0.1\n",
    "flow_rate = 0.5\n",
    "decay_coefficient = 0.00001 * flow_rate\n",
    "fcoeff = flow_coefficient(\"exponential\", num_steps, decay_coefficient)\n",
    "layers = simulate_deposition(fcoeff, pe, T, num_steps, dt)\n",
    "for i in 1:size(pe.K,1)\n",
    "    @test pe.K[i, i] ==  -1 * sum(pe.K[i, [1:i-1; i+1:end]])\n",
    "end\n",
    "@test size(layers) == (num_steps+1, 3)\n",
    "@test all(layers .>= 0)\n",
    "@test all(layers[1,:] .== [1.0, 0.0, 0.0])\n",
    "@test all(layers[:, 1] .== 1.0)\n",
    "@test layers[:, 2] != layers[:, 3]"
   ]
  }
 ],
 "metadata": {
  "kernelspec": {
   "display_name": "Julia 1.10.3",
   "language": "julia",
   "name": "julia-1.10"
  },
  "language_info": {
   "file_extension": ".jl",
   "mimetype": "application/julia",
   "name": "julia",
   "version": "1.10.3"
  }
 },
 "nbformat": 4,
 "nbformat_minor": 2
}

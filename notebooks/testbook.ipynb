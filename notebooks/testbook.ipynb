{
 "cells": [
  {
   "cell_type": "code",
   "execution_count": 1,
   "metadata": {},
   "outputs": [],
   "source": [
    "using ArrheniusModel\n",
    "using Test"
   ]
  },
  {
   "cell_type": "code",
   "execution_count": 4,
   "metadata": {},
   "outputs": [
    {
     "data": {
      "text/plain": [
       "10×3 Matrix{Float64}:\n",
       " 0.333333  0.333333  0.333333\n",
       " 0.333333  0.333333  0.333333\n",
       " 0.333333  0.333333  0.333333\n",
       " 0.333333  0.333333  0.333333\n",
       " 0.333336  0.333332  0.333332\n",
       " 0.333374  0.333313  0.333313\n",
       " 0.333984  0.333008  0.333008\n",
       " 0.343751  0.328125  0.328125\n",
       " 0.500002  0.249999  0.249999\n",
       " 1.0       0.0       0.0"
      ]
     },
     "metadata": {},
     "output_type": "display_data"
    },
    {
     "data": {
      "text/plain": [
       "\u001b[32m\u001b[1mTest Passed\u001b[22m\u001b[39m"
      ]
     },
     "metadata": {},
     "output_type": "display_data"
    }
   ],
   "source": [
    "G = [0.0,0.0,0.0]\n",
    "Ea = [0. 0. 0.; 0. 0. 0.; 0. 0. 0.]\n",
    "pe = PhaseEnergies(G, Ea)\n",
    "T = 300.0\n",
    "t= 10\n",
    "num_steps = 10\n",
    "dt = 0.5\n",
    "flow_rate = 0.5\n",
    "decay_coefficient = 0.00001 * flow_rate\n",
    "fcoeff = flow_coefficient(\"exponential\", num_steps, decay_coefficient)\n",
    "layers = simulate_deposition(fcoeff, pe, T, num_steps, dt)\n",
    "display(layers)\n",
    "@test layers[:, 2] ≈ layers[:, 3] # =somehow doesn't work even it shows the same value\n",
    "@test all(sum(layers, dims=2) .≈ 1.0)\n",
    "@test size(layers) == (num_steps, 3)\n",
    "@test all(layers .>= 0)\n",
    "@test all(layers[end,:] .== [1.0, 0.0, 0.0])\n",
    "phase = most_preferable_state(layers, 0.01, [\"A\", \"B\", \"C\"])\n",
    "@test phase == \"A+B+C\"\n",
    "phase = most_preferable_state(layers, 0.5, [\"A\", \"B\", \"C\"])\n",
    "@test phase == \"\"\n",
    "\n"
   ]
  },
  {
   "cell_type": "code",
   "execution_count": 11,
   "metadata": {},
   "outputs": [
    {
     "data": {
      "text/plain": [
       "\u001b[32m\u001b[1mTest Passed\u001b[22m\u001b[39m"
      ]
     },
     "metadata": {},
     "output_type": "display_data"
    }
   ],
   "source": [
    "G = [-5.92, -5.942, -5.97]\n",
    "Ea = [0.00 1.00 0.01; 1.00 0.00 1.00; 0.01 1.00 0.00]\n",
    "pe = PhaseEnergies(G, Ea)\n",
    "T = 1.0\n",
    "t= 10\n",
    "num_steps = 40\n",
    "dt = t / num_steps\n",
    "flow_rate = 0.5\n",
    "decay_coefficient = 0.00001 * flow_rate\n",
    "fcoeff = flow_coefficient(\"exponential\", num_steps, decay_coefficient)\n",
    "layers = simulate_deposition(fcoeff, pe, T, num_steps, dt)\n",
    "for i in 1:size(pe.K,1)\n",
    "    @test pe.K[i, i] ==  -1 * sum(pe.K[i, [1:i-1; i+1:end]])\n",
    "end\n",
    "@test size(layers) == (num_steps, 3)\n",
    "@test all(layers .>= 0)\n",
    "@test all(layers[end,:] .== [1.0, 0.0, 0.0])\n",
    "@test all(layers[:, 1] .== 1.0)\n",
    "@test layers[:, 2] != layers[:, 3]"
   ]
  },
  {
   "cell_type": "code",
   "execution_count": 12,
   "metadata": {},
   "outputs": [
    {
     "data": {
      "text/plain": [
       "40×3 Matrix{Float64}:\n",
       " 1.0  0.0  3.78397e-50\n",
       " 1.0  0.0  3.6844e-50\n",
       " 1.0  0.0  3.58484e-50\n",
       " 1.0  0.0  3.48527e-50\n",
       " 1.0  0.0  3.38569e-50\n",
       " 1.0  0.0  3.28612e-50\n",
       " 1.0  0.0  3.18655e-50\n",
       " 1.0  0.0  3.08698e-50\n",
       " 1.0  0.0  2.98741e-50\n",
       " 1.0  0.0  2.88783e-50\n",
       " ⋮         \n",
       " 1.0  0.0  6.97102e-51\n",
       " 1.0  0.0  5.97517e-51\n",
       " 1.0  0.0  4.97932e-51\n",
       " 1.0  0.0  3.98347e-51\n",
       " 1.0  0.0  2.98761e-51\n",
       " 1.0  0.0  1.99174e-51\n",
       " 1.0  0.0  9.95875e-52\n",
       " 1.0  0.0  0.0\n",
       " 1.0  0.0  0.0"
      ]
     },
     "metadata": {},
     "output_type": "display_data"
    }
   ],
   "source": [
    "layers[:, 1]"
   ]
  }
 ],
 "metadata": {
  "kernelspec": {
   "display_name": "Julia 1.10.1",
   "language": "julia",
   "name": "julia-1.10"
  },
  "language_info": {
   "file_extension": ".jl",
   "mimetype": "application/julia",
   "name": "julia",
   "version": "1.10.1"
  }
 },
 "nbformat": 4,
 "nbformat_minor": 2
}

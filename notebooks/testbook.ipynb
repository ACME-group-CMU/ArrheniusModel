{
 "cells": [
  {
   "cell_type": "code",
   "execution_count": 1,
   "metadata": {},
   "outputs": [],
   "source": [
    "using ArrheniusModel\n",
    "using Test"
   ]
  },
  {
   "cell_type": "code",
   "execution_count": 13,
   "metadata": {},
   "outputs": [
    {
     "data": {
      "text/plain": [
       "\u001b[32m\u001b[1mTest Passed\u001b[22m\u001b[39m"
      ]
     },
     "metadata": {},
     "output_type": "display_data"
    }
   ],
   "source": [
    "G = [0.0,0.0,0.0]\n",
    "Ea = [0. 0. 0.; 0. 0. 0.; 0. 0. 0.]\n",
    "pe = PhaseEnergies(G, Ea)\n",
    "T = 300.0\n",
    "num_steps = 10\n",
    "dt = 0.1\n",
    "flow_rate = 0.5\n",
    "decay_coefficient = 0.00001 * flow_rate\n",
    "fcoeff = flow_coefficient(\"exponential\", num_steps, decay_coefficient)\n",
    "layers = simulate_deposition(fcoeff, pe, T, num_steps, dt)\n",
    "@test layers[:, 2] == layers[:, 3]\n",
    "@test size(layers) == (num_steps+1, 3)\n",
    "@test all(layers .>= 0)\n",
    "@test all(layers[1,:] .== [1.0, 0.0, 0.0])\n",
    "\n"
   ]
  }
 ],
 "metadata": {
  "kernelspec": {
   "display_name": "Julia 1.10.2",
   "language": "julia",
   "name": "julia-1.10"
  },
  "language_info": {
   "file_extension": ".jl",
   "mimetype": "application/julia",
   "name": "julia",
   "version": "1.10.2"
  }
 },
 "nbformat": 4,
 "nbformat_minor": 2
}

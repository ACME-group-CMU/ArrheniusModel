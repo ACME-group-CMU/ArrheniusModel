{
 "cells": [
  {
   "cell_type": "code",
   "execution_count": 1,
   "metadata": {},
   "outputs": [],
   "source": [
    "using ArrheniusModel\n",
    "using Test"
   ]
  },
  {
   "cell_type": "code",
   "execution_count": 2,
   "metadata": {},
   "outputs": [
    {
     "data": {
      "text/plain": [
       "21×3 Matrix{Float64}:\n",
       " 0.333333  0.333333  0.333333\n",
       " 0.333333  0.333333  0.333333\n",
       " 0.333333  0.333333  0.333333\n",
       " 0.333333  0.333333  0.333333\n",
       " 0.333333  0.333333  0.333333\n",
       " 0.333333  0.333333  0.333333\n",
       " 0.333333  0.333333  0.333333\n",
       " 0.333333  0.333333  0.333333\n",
       " 0.333333  0.333333  0.333333\n",
       " 0.333333  0.333333  0.333333\n",
       " ⋮                   \n",
       " 0.333333  0.333333  0.333333\n",
       " 0.333334  0.333333  0.333333\n",
       " 0.333335  0.333332  0.333332\n",
       " 0.333361  0.333319  0.333319\n",
       " 0.333508  0.333246  0.333246\n",
       " 0.336064  0.331968  0.331968\n",
       " 0.350401  0.3248    0.3248\n",
       " 0.600002  0.199999  0.199999\n",
       " 1.0       0.0       0.0"
      ]
     },
     "metadata": {},
     "output_type": "display_data"
    },
    {
     "data": {
      "text/plain": [
       "\u001b[32m\u001b[1mTest Passed\u001b[22m\u001b[39m"
      ]
     },
     "metadata": {},
     "output_type": "display_data"
    }
   ],
   "source": [
    "G = [0.0,0.0,0.0]\n",
    "Ea = [0. 0. 0.; 0. 0. 0.; 0. 0. 0.]\n",
    "pe = PhaseEnergies(G, Ea)\n",
    "T = 300.0\n",
    "t= 10\n",
    "dt = 0.2\n",
    "num_steps = floor(Int, t/dt)\n",
    "num_layers = floor(Int, t/0.5)+1\n",
    "flow_rate = 0.5\n",
    "decay_coefficient = 0.00001 * flow_rate\n",
    "fcoeff = flow_coefficient(\"exponential\", num_layers, decay_coefficient)\n",
    "layers = simulate_deposition(fcoeff, pe, T, num_steps, num_layers, dt)\n",
    "display(layers)\n",
    "@test all(sum(layers, dims=2) .≈ 1.0) #Conservation rule\n",
    "@test layers[:, 2] ≈ layers[:, 3]  # =somehow doesn't work even it shows the same value\n",
    "@test size(layers) == (num_layers, 3) # num_steps+1 to num_steps due to format change\n",
    "@test all(layers .>= 0)\n",
    "@test all(layers[end,:] .== [1.0, 0.0, 0.0]) #layers[1,:] -> layers[end,:] due to format change\n",
    "phase = most_preferable_state(layers, 0.01, [\"A\", \"B\", \"C\"])\n",
    "@test phase == \"A+B+C\"\n",
    "phase = most_preferable_state(layers, 0.5, [\"A\", \"B\", \"C\"])\n",
    "@test phase == \"\" #For a short time test, results seems to depend on solver => Change to something that is forerver true\n",
    "\n",
    "\n"
   ]
  },
  {
   "cell_type": "code",
   "execution_count": 6,
   "metadata": {},
   "outputs": [
    {
     "name": "stdout",
     "output_type": "stream",
     "text": [
      "\u001b[91m\u001b[1mTest Failed\u001b[22m\u001b[39m at \u001b[39m\u001b[1m/Users/posent/Library/CloudStorage/GoogleDrive-posent@andrew.cmu.edu/My Drive/Ga2O3/ArrheniusModel/notebooks/testbook.ipynb:19\u001b[22m\n",
      "  Expression: all(sum(layers, dims = 2) .≈ 1.0)\n",
      "\n"
     ]
    },
    {
     "ename": "Test.FallbackTestSetException",
     "evalue": "Test.FallbackTestSetException(\"There was an error during testing\")",
     "output_type": "error",
     "traceback": [
      "Test.FallbackTestSetException(\"There was an error during testing\")\n",
      "\n",
      "Stacktrace:\n",
      " [1] record(ts::Test.FallbackTestSet, t::Union{Test.Error, Test.Fail})\n",
      "   @ Test ~/.julia/juliaup/julia-1.10.3+0.aarch64.apple.darwin14/share/julia/stdlib/v1.10/Test/src/Test.jl:1000\n",
      " [2] do_test(result::Test.ExecutionResult, orig_expr::Any)\n",
      "   @ Test ~/.julia/juliaup/julia-1.10.3+0.aarch64.apple.darwin14/share/julia/stdlib/v1.10/Test/src/Test.jl:705\n",
      " [3] macro expansion\n",
      "   @ ~/.julia/juliaup/julia-1.10.3+0.aarch64.apple.darwin14/share/julia/stdlib/v1.10/Test/src/Test.jl:672 [inlined]\n",
      " [4] top-level scope\n",
      "   @ ~/Library/CloudStorage/GoogleDrive-posent@andrew.cmu.edu/My Drive/Ga2O3/ArrheniusModel/notebooks/testbook.ipynb:19"
     ]
    }
   ],
   "source": [
    "G = [-5.92, -5.942, -5.97]\n",
    "Ea = [0.00 1.00 0.01; 1.00 0.00 1.00; 0.01 1.00 0.00]\n",
    "pe = PhaseEnergies(G, Ea)\n",
    "T = 1.0\n",
    "t= 10\n",
    "dt = 0.5\n",
    "num_steps = floor(Int, t/dt)\n",
    "num_layers = floor(Int, t/0.5)+1\n",
    "flow_rate = 0.5\n",
    "decay_coefficient = 0.00001 * flow_rate\n",
    "fcoeff = flow_coefficient(\"exponential\", num_layers, decay_coefficient)\n",
    "layers = simulate_deposition(fcoeff, pe, T, num_steps, num_layers, dt)\n",
    "for i in 1:size(pe.K,1)\n",
    "    @test pe.K[i, i] ==  -1 * sum(pe.K[i, [1:i-1; i+1:end]])\n",
    "end\n",
    "@test size(layers) == (num_layers, 3)\n",
    "@test all(layers .>= 0)\n",
    "@test all(layers[end,:] .== [1.0, 0.0, 0.0])\n",
    "@test all(sum(layers, dims=2) .≈ 1.0)\n",
    "@test layers[:, 2] != layers[:, 3]"
   ]
  },
  {
   "cell_type": "code",
   "execution_count": 3,
   "metadata": {},
   "outputs": [
    {
     "data": {
      "text/plain": [
       "21×3 Matrix{Float64}:\n",
       " 1.0  0.0  3.96342e-50\n",
       " 1.0  0.0  3.74434e-50\n",
       " 1.0  0.0  3.5651e-50\n",
       " 1.0  0.0  3.36594e-50\n",
       " 1.0  0.0  3.16678e-50\n",
       " 1.0  0.0  2.9477e-50\n",
       " 1.0  0.0  2.74854e-50\n",
       " 1.0  0.0  2.54938e-50\n",
       " 1.0  0.0  2.35021e-50\n",
       " 1.0  0.0  2.15105e-50\n",
       " ⋮         \n",
       " 1.0  0.0  1.55355e-50\n",
       " 1.0  0.0  1.35438e-50\n",
       " 1.0  0.0  1.15521e-50\n",
       " 1.0  0.0  9.56035e-51\n",
       " 1.0  0.0  7.56863e-51\n",
       " 1.0  0.0  5.5769e-51\n",
       " 1.0  0.0  3.58516e-51\n",
       " 1.0  0.0  1.79258e-51\n",
       " 1.0  0.0  0.0"
      ]
     },
     "metadata": {},
     "output_type": "display_data"
    },
    {
     "data": {
      "text/plain": [
       "\u001b[32m\u001b[1mTest Passed\u001b[22m\u001b[39m"
      ]
     },
     "metadata": {},
     "output_type": "display_data"
    }
   ],
   "source": [
    "G = [-5.92, -5.942, -5.97]\n",
    "Ea = [0.00 1.00 0.01; 1.00 0.00 1.00; 0.01 1.00 0.00]\n",
    "pe = PhaseEnergies(G, Ea)\n",
    "T = 1.0\n",
    "t= 10\n",
    "dt = 0.05\n",
    "num_steps = floor(Int, t/dt)\n",
    "num_layers = floor(Int, t/0.5)+1\n",
    "flow_rate = 0.5\n",
    "decay_coefficient = 0.00001 * flow_rate\n",
    "fcoeff = flow_coefficient(\"exponential\", num_layers, decay_coefficient)\n",
    "layers = simulate_deposition(fcoeff, pe, T, num_steps, num_layers, dt)\n",
    "display(layers)\n",
    "for i in 1:size(pe.K,1)\n",
    "    @test pe.K[i, i] ==  -1 * sum(pe.K[i, [1:i-1; i+1:end]])\n",
    "end\n",
    "@test all(sum(layers, dims=2) .≈ 1.0)\n",
    "@test layers[:, 2] != layers[:, 3]\n",
    "@test size(layers) == (num_layers, 3)\n",
    "@test all(layers .>= 0)\n",
    "@test all(layers[end,:] .== [1.0, 0.0, 0.0])\n",
    "@test all(layers[:, 1] .== 1.0)\n"
   ]
  }
 ],
 "metadata": {
  "kernelspec": {
   "display_name": "Julia 1.10.5",
   "language": "julia",
   "name": "julia-1.10"
  },
  "language_info": {
   "file_extension": ".jl",
   "mimetype": "application/julia",
   "name": "julia",
   "version": "1.10.5"
  }
 },
 "nbformat": 4,
 "nbformat_minor": 2
}
